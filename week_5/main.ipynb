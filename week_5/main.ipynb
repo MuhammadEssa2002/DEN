{
 "cells": [
  {
   "cell_type": "code",
   "execution_count": null,
   "metadata": {},
   "outputs": [],
   "source": [
    "import pandas as pd\n",
    "import matplotlib.pyplot as plt\n",
    "import seaborn as sns\n",
    "\n",
    "# Sample dataset\n",
    "data = {\n",
    "    'Student': ['Essa', 'Danish', 'Amber', 'Asim', 'Rida'],\n",
    "    'Math': [85, 78, 92, 70, 88],\n",
    "    'Science': [90, 82, 85, 72, 91],\n",
    "    'English': [78, 75, 89, 83, 77]\n",
    "}\n",
    "\n",
    "# Create a DataFrame\n",
    "df = pd.DataFrame(data)\n",
    "\n",
    "# Show the dataset\n",
    "print(df)\n"
   ]
  },
  {
   "cell_type": "markdown",
   "metadata": {},
   "source": [
    "### Bar Plot: Comparing student performance across subjects."
   ]
  },
  {
   "cell_type": "code",
   "execution_count": null,
   "metadata": {},
   "outputs": [],
   "source": [
    "# Plot a bar plot for each subject's score\n",
    "df.set_index('Student').plot(kind='bar', figsize=(10, 6))\n",
    "plt.title('Student Scores in Different Subjects')\n",
    "plt.ylabel('Scores')\n",
    "plt.xticks(rotation=45)\n",
    "plt.show()"
   ]
  },
  {
   "cell_type": "markdown",
   "metadata": {},
   "source": [
    "### Pie Chart: Showing the proportion of total scores for each subject."
   ]
  },
  {
   "cell_type": "code",
   "execution_count": null,
   "metadata": {},
   "outputs": [],
   "source": [
    "# Calculate total scores for each subject\n",
    "subject_totals = df[['Math', 'Science', 'English']].sum()\n",
    "\n",
    "# Plot a pie chart\n",
    "plt.figure(figsize=(7, 7))\n",
    "plt.pie(subject_totals, labels=subject_totals.index, autopct='%1.1f%%', startangle=140)\n",
    "plt.title('Total Scores Proportion by Subject')\n",
    "plt.show()"
   ]
  },
  {
   "cell_type": "markdown",
   "metadata": {},
   "source": [
    "### Dot Plot: Visualizing individual scores for each subject."
   ]
  },
  {
   "cell_type": "code",
   "execution_count": null,
   "metadata": {},
   "outputs": [],
   "source": [
    "# Prepare data for dot plot\n",
    "melted_df = df.melt(id_vars='Student', var_name='Subject', value_name='Score')\n",
    "\n",
    "# Plot a dot plot using Seaborn\n",
    "plt.figure(figsize=(10, 6))\n",
    "sns.stripplot(data=melted_df, x='Student', y='Score', hue='Subject', jitter=True, size=8, palette='Set1')\n",
    "plt.title('Dot Plot of Scores by Student and Subject')\n",
    "plt.ylabel('Scores')\n",
    "plt.show()\n"
   ]
  }
 ],
 "metadata": {
  "kernelspec": {
   "display_name": "Python 3",
   "language": "python",
   "name": "python3"
  },
  "language_info": {
   "codemirror_mode": {
    "name": "ipython",
    "version": 3
   },
   "file_extension": ".py",
   "mimetype": "text/x-python",
   "name": "python",
   "nbconvert_exporter": "python",
   "pygments_lexer": "ipython3",
   "version": "3.11.9"
  }
 },
 "nbformat": 4,
 "nbformat_minor": 2
}
